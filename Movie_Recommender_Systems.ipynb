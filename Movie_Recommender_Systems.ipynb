{
 "cells": [
  {
   "cell_type": "markdown",
   "metadata": {
    "id": "Lzk7iX_CodX6",
    "tags": []
   },
   "source": [
    "\n",
    "# Outline\n",
    "- [ 1 - Notation](#1)\n",
    "- [ 2 - Recommender Systems](#2)\n",
    "- [ 3 - Movie ratings dataset](#3)\n",
    "- [ 4 - Collaborative filtering learning algorithm](#4)\n",
    "- [ 5 - Learning movie recommendations](#5)\n",
    "- [ 6 - Recommendations](#6)\n",
    "- [ 7 - Congratulations!](#7)\n",
    "\n",
    "\n"
   ]
  },
  {
   "cell_type": "markdown",
   "metadata": {},
   "source": [
    "##  Packages\n",
    "We will use NumPy and Tensorflow Packages."
   ]
  },
  {
   "cell_type": "code",
   "execution_count": 1,
   "metadata": {
    "scrolled": true
   },
   "outputs": [
    {
     "name": "stderr",
     "output_type": "stream",
     "text": [
      "2024-03-18 12:50:02.722369: I tensorflow/core/platform/cpu_feature_guard.cc:210] This TensorFlow binary is optimized to use available CPU instructions in performance-critical operations.\n",
      "To enable the following instructions: AVX2 FMA, in other operations, rebuild TensorFlow with the appropriate compiler flags.\n"
     ]
    }
   ],
   "source": [
    "import numpy as np\n",
    "import tensorflow as tf\n",
    "import pandas as pd\n",
    "from tensorflow import keras"
   ]
  },
  {
   "cell_type": "markdown",
   "metadata": {},
   "source": [
    "<a name=\"1\"></a>\n",
    "## 1 - Notation\n"
   ]
  },
  {
   "cell_type": "markdown",
   "metadata": {},
   "source": [
    "| General Notation       | Description                                                             | Python (if any) |\n",
    "|:-----------------------|:------------------------------------------------------------------------|:---------------|\n",
    "| $r(i,j)$               | scalar; = 1 if user j rated movie i = 0 otherwise                        |                |\n",
    "| $y(i,j)$               | scalar; = rating given by user j on movie i (if r(i,j) = 1 is defined)   |                |\n",
    "| $\\mathbf{w}^{(j)}$     | vector; parameters for user j                                           |                |\n",
    "| $b^{(j)}$              | scalar; parameter for user j                                            |                |\n",
    "| $\\mathbf{x}^{(i)}$     | vector; feature ratings for movie i                                     |                |\n",
    "| $n_u$                  | number of users                                                         | num_users      |\n",
    "| $n_m$                  | number of movies                                                        | num_movies     |\n",
    "| $n$                    | number of features                                                      | num_features   |\n",
    "| $\\mathbf{X}$           | matrix of vectors $\\mathbf{x}^{(i)}$                                    | X              |\n",
    "| $\\mathbf{W}$           | matrix of vectors $\\mathbf{w}^{(j)}$                                    | W              |\n",
    "| $\\mathbf{b}$           | vector of bias parameters $b^{(j)}$                                     | b              |\n",
    "| $\\mathbf{R}$           | matrix of elements $r(i,j)$                                             | R              |\n"
   ]
  },
  {
   "cell_type": "markdown",
   "metadata": {
    "tags": []
   },
   "source": [
    "## 2 - Recommender Systems\n",
    "In this project, we will implement the collaborative filtering learning algorithm and apply it to a dataset of movie ratings.\n",
    "The goal of a collaborative filtering recommender system is to generate two vectors: For each user, a 'parameter vector' that embodies the movie tastes of a user. For each movie, a feature vector of the same size which embodies some description of the movie. The dot product of the two vectors plus the bias term should produce an estimate of the rating the user might give to that movie.\n"
   ]
  },
  {
   "cell_type": "markdown",
   "metadata": {
    "id": "6-09Hto6odYD"
   },
   "source": [
    "<a name=\"3\"></a>\n",
    "## 3 - Movie ratings dataset \n",
    "The data set is derived from the [MovieLens \"ml-latest-small\"](https://grouplens.org/datasets/movielens/latest/) dataset.   \n",
    "[F. Maxwell Harper and Joseph A. Konstan. 2015. The MovieLens Datasets: History and Context. ACM Transactions on Interactive Intelligent Systems (TiiS) 5, 4: 19:1–19:19. <https://doi.org/10.1145/2827872>]\n",
    "\n",
    "The original dataset has  9000 movies rated by 600 users. The dataset has been reduced in size to focus on movies from the years since 2000. This dataset consists of ratings on a scale of 0.5 to 5 in 0.5 step increments. The reduced dataset has $n_u = 443$ users, and $n_m= 4778$ movies. \n",
    "\n",
    "Below, you will load the movie dataset into the variables $Y$ and $R$.\n",
    "\n",
    "The matrix $Y$ (a  $n_m \\times n_u$ matrix) stores the ratings $y^{(i,j)}$. The matrix $R$ is an binary-valued indicator matrix, where $R(i,j) = 1$ if user $j$ gave a rating to movie $i$, and $R(i,j)=0$ otherwise. \n",
    "\n",
    "Throughout this part of the exercise, you will also be working with the\n",
    "matrices, $\\mathbf{X}$, $\\mathbf{W}$ and $\\mathbf{b}$: \n",
    "\n",
    "$$\\mathbf{X} = \n",
    "\\begin{bmatrix}\n",
    "--- (\\mathbf{x}^{(0)})^T --- \\\\\n",
    "--- (\\mathbf{x}^{(1)})^T --- \\\\\n",
    "\\vdots \\\\\n",
    "--- (\\mathbf{x}^{(n_m-1)})^T --- \\\\\n",
    "\\end{bmatrix} , \\quad\n",
    "\\mathbf{W} = \n",
    "\\begin{bmatrix}\n",
    "--- (\\mathbf{w}^{(0)})^T --- \\\\\n",
    "--- (\\mathbf{w}^{(1)})^T --- \\\\\n",
    "\\vdots \\\\\n",
    "--- (\\mathbf{w}^{(n_u-1)})^T --- \\\\\n",
    "\\end{bmatrix},\\quad\n",
    "\\mathbf{ b} = \n",
    "\\begin{bmatrix}\n",
    " b^{(0)}  \\\\\n",
    " b^{(1)} \\\\\n",
    "\\vdots \\\\\n",
    "b^{(n_u-1)} \\\\\n",
    "\\end{bmatrix}\\quad\n",
    "$$ \n",
    "\n",
    "The $i$-th row of $\\mathbf{X}$ corresponds to the\n",
    "feature vector $x^{(i)}$ for the $i$-th movie, and the $j$-th row of\n",
    "$\\mathbf{W}$ corresponds to one parameter vector $\\mathbf{w}^{(j)}$, for the\n",
    "$j$-th user. Both $x^{(i)}$ and $\\mathbf{w}^{(j)}$ are $n$-dimensional\n",
    "vectors. For the purposes of this exercise, you will use $n=10$, and\n",
    "therefore, $\\mathbf{x}^{(i)}$ and $\\mathbf{w}^{(j)}$ have 10 elements.\n",
    "Correspondingly, $\\mathbf{X}$ is a\n",
    "$n_m \\times 10$ matrix and $\\mathbf{W}$ is a $n_u \\times 10$ matrix.\n",
    "\n",
    "We will start by loading the movie ratings dataset to understand the structure of the data.\n",
    "We will load $Y$ and $R$ with the movie dataset.  "
   ]
  },
  {
   "cell_type": "code",
   "execution_count": 2,
   "metadata": {},
   "outputs": [],
   "source": [
    "def load_data(csv_file):\n",
    "    # Read CSV file\n",
    "    df = pd.read_csv(csv_file)\n",
    "    # Create a pivot table for the rating matrix\n",
    "    rating_matrix = df.pivot_table(index='movieId', columns='userId', values='rating')\n",
    "    # Create a binary matrix\n",
    "    binary_matrix = rating_matrix.notnull().astype(int)\n",
    "    # Replace NaN with 0 in rating matrix\n",
    "    rating_matrix = rating_matrix.fillna(0)\n",
    "    return rating_matrix, binary_matrix, rating_matrix.to_numpy(), binary_matrix.to_numpy()\n",
    "\n",
    "rating, binary_matrix, Y, R = load_data('dataset/ratings.csv')\n"
   ]
  },
  {
   "cell_type": "markdown",
   "metadata": {},
   "source": [
    "## 4 - Collaborative filtering learning algorithm\n",
    "\n",
    "Now, we will begin implementing the collaborative filtering learning\n",
    "algorithm. we will start by implementing the objective function. \n",
    "\n",
    "The collaborative filtering algorithm in the setting of movie\n",
    "recommendations considers a set of $n$-dimensional parameter vectors\n",
    "$\\mathbf{x}^{(0)},...,\\mathbf{x}^{(n_m-1)}$, $\\mathbf{w}^{(0)},...,\\mathbf{w}^{(n_u-1)}$ and $b^{(0)},...,b^{(n_u-1)}$, where the\n",
    "model predicts the rating for movie $i$ by user $j$ as\n",
    "$y^{(i,j)} = \\mathbf{w}^{(j)}\\cdot \\mathbf{x}^{(i)} + b^{(j)}$ . Given a dataset that consists of\n",
    "a set of ratings produced by some users on some movies, you wish to\n",
    "learn the parameter vectors $\\mathbf{x}^{(0)},...,\\mathbf{x}^{(n_m-1)},\n",
    "\\mathbf{w}^{(0)},...,\\mathbf{w}^{(n_u-1)}$  and $b^{(0)},...,b^{(n_u-1)}$ that produce the best fit (minimizes\n",
    "the squared error).\n",
    "\n",
    "We will complete the code in cofiCostFunc to compute the cost\n",
    "function for collaborative filtering. "
   ]
  },
  {
   "cell_type": "markdown",
   "metadata": {
    "id": "bcqg0LJWodYH"
   },
   "source": [
    "\n",
    "<a name=\"4.1\"></a>\n",
    "### 4.1 Collaborative filtering cost function\n",
    "\n",
    "The collaborative filtering cost function is given by\n",
    "$$J({\\mathbf{x}^{(0)},...,\\mathbf{x}^{(n_m-1)},\\mathbf{w}^{(0)},b^{(0)},...,\\mathbf{w}^{(n_u-1)},b^{(n_u-1)}})= \\frac{1}{2}\\sum_{(i,j):r(i,j)=1}(\\mathbf{w}^{(j)} \\cdot \\mathbf{x}^{(i)} + b^{(j)} - y^{(i,j)})^2\n",
    "+\\underbrace{\n",
    "\\frac{\\lambda}{2}\n",
    "\\sum_{j=0}^{n_u-1}\\sum_{k=0}^{n-1}(\\mathbf{w}^{(j)}_k)^2\n",
    "+ \\frac{\\lambda}{2}\\sum_{i=0}^{n_m-1}\\sum_{k=0}^{n-1}(\\mathbf{x}_k^{(i)})^2\n",
    "}_{regularization}\n",
    "\\tag{1}$$\n",
    "The first summation in (1) is \"for all $i$, $j$ where $r(i,j)$ equals $1$\" and could be written:\n",
    "\n",
    "$$\n",
    "= \\frac{1}{2}\\sum_{j=0}^{n_u-1} \\sum_{i=0}^{n_m-1}r(i,j)*(\\mathbf{w}^{(j)} \\cdot \\mathbf{x}^{(i)} + b^{(j)} - y^{(i,j)})^2\n",
    "+\\text{regularization}\n",
    "$$\n",
    "\n",
    "We should now write cofiCostFunc (collaborative filtering cost function) to return this cost."
   ]
  },
  {
   "cell_type": "code",
   "execution_count": 3,
   "metadata": {},
   "outputs": [],
   "source": [
    "def initialize_matrix(n, m):\n",
    "    # Create an n by m matrix with values between 0 and 5\n",
    "    return np.random.uniform(low=1, high=5, size=(n, m))\n"
   ]
  },
  {
   "cell_type": "code",
   "execution_count": 4,
   "metadata": {},
   "outputs": [],
   "source": [
    "# initialize the parameter matrix\n",
    "\n",
    "X = initialize_matrix(len(Y), 10)\n",
    "W = initialize_matrix(len(Y), 10)\n",
    "b = initialize_matrix(1, len(Y[0]))"
   ]
  },
  {
   "cell_type": "code",
   "execution_count": 5,
   "metadata": {},
   "outputs": [],
   "source": [
    "def cofi_cost_func(X, W, b, Y, R, lambda_):\n",
    "    \"\"\"\n",
    "    Returns the cost for the content-based filtering\n",
    "    Vectorized for speed. Uses tensorflow operations to be compatible with custom training loop.\n",
    "    Args:\n",
    "      X (ndarray (num_movies,num_features)): matrix of item features\n",
    "      W (ndarray (num_users,num_features)) : matrix of user parameters\n",
    "      b (ndarray (1, num_users)            : vector of user parameters\n",
    "      Y (ndarray (num_movies,num_users)    : matrix of user ratings of movies\n",
    "      R (ndarray (num_movies,num_users)    : matrix, where R(i, j) = 1 if the i-th movies was rated by the j-th user\n",
    "      lambda_ (float): regularization parameter\n",
    "    Returns:\n",
    "      J (float) : Cost\n",
    "    \"\"\"\n",
    "    j = (tf.linalg.matmul(X, tf.transpose(W)) + b - Y)*R\n",
    "    J = 0.5 * tf.reduce_sum(j**2) + (lambda_/2) * (tf.reduce_sum(X**2) + tf.reduce_sum(W**2))\n",
    "    return J"
   ]
  },
  {
   "cell_type": "code",
   "execution_count": 6,
   "metadata": {},
   "outputs": [
    {
     "name": "stdout",
     "output_type": "stream",
     "text": [
      "Cost: 936788.29\n"
     ]
    }
   ],
   "source": [
    "# Reduce the data set size so that this runs faster\n",
    "num_users_r = 40\n",
    "num_movies_r = 50\n",
    "num_features_r = 10\n",
    "\n",
    "X_r = X[:num_movies_r, :num_features_r]\n",
    "W_r = W[:num_users_r,  :num_features_r]\n",
    "b_r = b[0, :num_users_r].reshape(1,-1)\n",
    "Y_r = Y[:num_movies_r, :num_users_r]\n",
    "R_r = R[:num_movies_r, :num_users_r]\n",
    "\n",
    "# Evaluate cost function\n",
    "J = cofi_cost_func(X_r, W_r, b_r, Y_r, R_r, 0)\n",
    "print(f\"Cost: {J:0.2f}\")"
   ]
  },
  {
   "cell_type": "markdown",
   "metadata": {
    "id": "ilaeM8yWodYR"
   },
   "source": [
    "## 5 - Learning movie recommendations \n",
    "------------------------------\n",
    "\n",
    "After we have finished implementing the collaborative filtering cost\n",
    "function, we can start training your algorithm to make\n",
    "movie recommendations for ourself. "
   ]
  },
  {
   "cell_type": "code",
   "execution_count": 29,
   "metadata": {},
   "outputs": [],
   "source": [
    "movie_list = pd.read_csv('dataset/movies.csv', index_col='movieId')"
   ]
  },
  {
   "cell_type": "code",
   "execution_count": 30,
   "metadata": {},
   "outputs": [],
   "source": [
    "rate_0 = np.zeros(len(Y))\n",
    "my_ratings = pd.Series(rate_0)\n",
    "my_ratings.index = rating.index"
   ]
  },
  {
   "cell_type": "code",
   "execution_count": 31,
   "metadata": {},
   "outputs": [
    {
     "data": {
      "text/html": [
       "<div>\n",
       "<style scoped>\n",
       "    .dataframe tbody tr th:only-of-type {\n",
       "        vertical-align: middle;\n",
       "    }\n",
       "\n",
       "    .dataframe tbody tr th {\n",
       "        vertical-align: top;\n",
       "    }\n",
       "\n",
       "    .dataframe thead th {\n",
       "        text-align: right;\n",
       "    }\n",
       "</style>\n",
       "<table border=\"1\" class=\"dataframe\">\n",
       "  <thead>\n",
       "    <tr style=\"text-align: right;\">\n",
       "      <th></th>\n",
       "      <th>title</th>\n",
       "      <th>genres</th>\n",
       "    </tr>\n",
       "    <tr>\n",
       "      <th>movieId</th>\n",
       "      <th></th>\n",
       "      <th></th>\n",
       "    </tr>\n",
       "  </thead>\n",
       "  <tbody>\n",
       "    <tr>\n",
       "      <th>1</th>\n",
       "      <td>Toy Story (1995)</td>\n",
       "      <td>Adventure|Animation|Children|Comedy|Fantasy</td>\n",
       "    </tr>\n",
       "    <tr>\n",
       "      <th>2</th>\n",
       "      <td>Jumanji (1995)</td>\n",
       "      <td>Adventure|Children|Fantasy</td>\n",
       "    </tr>\n",
       "    <tr>\n",
       "      <th>8</th>\n",
       "      <td>Tom and Huck (1995)</td>\n",
       "      <td>Adventure|Children</td>\n",
       "    </tr>\n",
       "    <tr>\n",
       "      <th>10</th>\n",
       "      <td>GoldenEye (1995)</td>\n",
       "      <td>Action|Adventure|Thriller</td>\n",
       "    </tr>\n",
       "    <tr>\n",
       "      <th>13</th>\n",
       "      <td>Balto (1995)</td>\n",
       "      <td>Adventure|Animation|Children</td>\n",
       "    </tr>\n",
       "    <tr>\n",
       "      <th>...</th>\n",
       "      <td>...</td>\n",
       "      <td>...</td>\n",
       "    </tr>\n",
       "    <tr>\n",
       "      <th>187595</th>\n",
       "      <td>Solo: A Star Wars Story (2018)</td>\n",
       "      <td>Action|Adventure|Children|Sci-Fi</td>\n",
       "    </tr>\n",
       "    <tr>\n",
       "      <th>188301</th>\n",
       "      <td>Ant-Man and the Wasp (2018)</td>\n",
       "      <td>Action|Adventure|Comedy|Fantasy|Sci-Fi</td>\n",
       "    </tr>\n",
       "    <tr>\n",
       "      <th>188833</th>\n",
       "      <td>The Man Who Killed Don Quixote (2018)</td>\n",
       "      <td>Adventure|Comedy|Fantasy</td>\n",
       "    </tr>\n",
       "    <tr>\n",
       "      <th>189333</th>\n",
       "      <td>Mission: Impossible - Fallout (2018)</td>\n",
       "      <td>Action|Adventure|Thriller</td>\n",
       "    </tr>\n",
       "    <tr>\n",
       "      <th>191005</th>\n",
       "      <td>Gintama (2017)</td>\n",
       "      <td>Action|Adventure|Comedy|Sci-Fi</td>\n",
       "    </tr>\n",
       "  </tbody>\n",
       "</table>\n",
       "<p>1263 rows × 2 columns</p>\n",
       "</div>"
      ],
      "text/plain": [
       "                                         title  \\\n",
       "movieId                                          \n",
       "1                             Toy Story (1995)   \n",
       "2                               Jumanji (1995)   \n",
       "8                          Tom and Huck (1995)   \n",
       "10                            GoldenEye (1995)   \n",
       "13                                Balto (1995)   \n",
       "...                                        ...   \n",
       "187595          Solo: A Star Wars Story (2018)   \n",
       "188301             Ant-Man and the Wasp (2018)   \n",
       "188833   The Man Who Killed Don Quixote (2018)   \n",
       "189333    Mission: Impossible - Fallout (2018)   \n",
       "191005                          Gintama (2017)   \n",
       "\n",
       "                                              genres  \n",
       "movieId                                               \n",
       "1        Adventure|Animation|Children|Comedy|Fantasy  \n",
       "2                         Adventure|Children|Fantasy  \n",
       "8                                 Adventure|Children  \n",
       "10                         Action|Adventure|Thriller  \n",
       "13                      Adventure|Animation|Children  \n",
       "...                                              ...  \n",
       "187595              Action|Adventure|Children|Sci-Fi  \n",
       "188301        Action|Adventure|Comedy|Fantasy|Sci-Fi  \n",
       "188833                      Adventure|Comedy|Fantasy  \n",
       "189333                     Action|Adventure|Thriller  \n",
       "191005                Action|Adventure|Comedy|Sci-Fi  \n",
       "\n",
       "[1263 rows x 2 columns]"
      ]
     },
     "execution_count": 31,
     "metadata": {},
     "output_type": "execute_result"
    }
   ],
   "source": [
    "movie_list[movie_list['genres'].apply(lambda x: 'Adventure' in x)]"
   ]
  },
  {
   "cell_type": "code",
   "execution_count": 32,
   "metadata": {},
   "outputs": [],
   "source": [
    "# rating the movie by ourself, the high rating according to action, adventure, and Animation genres\n",
    "my_ratings[631] = 5 \n",
    "my_ratings[3000] = 4.5\n",
    "my_ratings[7153]  = 5   \n",
    "my_ratings[1032]  = 5   \n",
    "my_ratings[3687] = 4   \n",
    "my_ratings[558] = 4\n",
    "my_ratings[2857] = 4.5\n",
    "my_ratings[8] = 4.5\n",
    "my_ratings[113394] = 1.5\n",
    "my_ratings[55282] = 1\n",
    "my_ratings[26078] = 1.5\n",
    "my_ratings[11] = 2   \n",
    "my_ratings[15] = 1\n",
    "my_ratings[17] = 2\n",
    "my_ratings[25] = 1\n",
    "my_rated = np.array([1 if my_ratings[index] > 0 else 0 for index in my_ratings.index])\n"
   ]
  },
  {
   "cell_type": "code",
   "execution_count": 33,
   "metadata": {
    "id": "WJO8Jr0UodYR"
   },
   "outputs": [
    {
     "name": "stdout",
     "output_type": "stream",
     "text": [
      "\n",
      "New user ratings:\n",
      "\n",
      "Rated 4.5 for  Tom and Huck (1995); Genres: Adventure|Children\n",
      "Rated 2.0 for  American President, The (1995); Genres: Comedy|Drama|Romance\n",
      "Rated 1.0 for  Cutthroat Island (1995); Genres: Action|Adventure|Romance\n",
      "Rated 2.0 for  Sense and Sensibility (1995); Genres: Drama|Romance\n",
      "Rated 1.0 for  Leaving Las Vegas (1995); Genres: Drama|Romance\n",
      "Rated 4.0 for  Pagemaster, The (1994); Genres: Action|Adventure|Animation|Children|Fantasy\n",
      "Rated 5.0 for  All Dogs Go to Heaven 2 (1996); Genres: Adventure|Animation|Children|Fantasy|Musical|Romance\n",
      "Rated 5.0 for  Alice in Wonderland (1951); Genres: Adventure|Animation|Children|Fantasy|Musical\n",
      "Rated 4.5 for  Yellow Submarine (1968); Genres: Adventure|Animation|Comedy|Fantasy|Musical\n",
      "Rated 4.5 for  Princess Mononoke (Mononoke-hime) (1997); Genres: Action|Adventure|Animation|Drama|Fantasy\n",
      "Rated 4.0 for  Light Years (Gandahar) (1988); Genres: Adventure|Animation|Fantasy|Sci-Fi\n",
      "Rated 5.0 for  Lord of the Rings: The Return of the King, The (2003); Genres: Action|Adventure|Drama|Fantasy\n",
      "Rated 1.5 for  Advise and Consent (1962); Genres: Drama\n",
      "Rated 1.0 for  30 Days of Night (2007); Genres: Horror|Thriller\n",
      "Rated 1.5 for  Pretty One, The (2013); Genres: Comedy|Drama\n"
     ]
    }
   ],
   "source": [
    "\n",
    "print('\\nNew user ratings:\\n')\n",
    "for index in my_ratings.index:\n",
    "    if my_ratings[index] > 0 :\n",
    "        print(f'Rated {my_ratings[index]} for  {movie_list.loc[index,\"title\"]}; Genres: {movie_list.loc[index, \"genres\"]}');"
   ]
  },
  {
   "cell_type": "markdown",
   "metadata": {},
   "source": [
    "Now, let's add these reviews to $Y$ and $R$ and normalize the ratings."
   ]
  },
  {
   "cell_type": "code",
   "execution_count": 34,
   "metadata": {},
   "outputs": [],
   "source": [
    "def normalizeRatings(rating_Y, R_matrix):\n",
    "    rating_Y_copy =  np.empty(rating_Y.shape)\n",
    "    mean_list = []\n",
    "    for col in range(rating_Y.shape[1]):\n",
    "        valid_rating = R_matrix[:, col].sum()\n",
    "        if valid_rating > 0:\n",
    "            mean_col = rating_Y[:, col].sum() / valid_rating\n",
    "        else:\n",
    "            mean_col = 0  # Handle the case where there are no valid ratings\n",
    "\n",
    "        mean_list.append(mean_col)\n",
    "        for i in range(rating_Y.shape[0]):  # Iterate over rows\n",
    "            if R_matrix[i, col] == 1:\n",
    "                rating_Y_copy[i, col] = rating_Y[i, col] - mean_col\n",
    "            else:\n",
    "                rating_Y_copy[i, col] = 0\n",
    "\n",
    "    return rating_Y_copy, mean_list\n"
   ]
  },
  {
   "cell_type": "code",
   "execution_count": 35,
   "metadata": {},
   "outputs": [],
   "source": [
    "\n",
    "# Add new user ratings to Y\n",
    "Y = np.c_[my_ratings.to_numpy(), Y]\n",
    "\n",
    "# Add new user indicator matrix to R\n",
    "R = np.c_[(my_ratings.to_numpy() != 0).astype(int), R]\n",
    "\n",
    "# Normalize the Dataset\n",
    "Ynorm, Ymean = normalizeRatings(Y, R)"
   ]
  },
  {
   "cell_type": "markdown",
   "metadata": {},
   "source": [
    "Let's prepare to train the model. Initialize the parameters and select the Adam optimizer."
   ]
  },
  {
   "cell_type": "code",
   "execution_count": 36,
   "metadata": {
    "tags": []
   },
   "outputs": [],
   "source": [
    "#  Useful Values\n",
    "num_movies, num_users = Y.shape\n",
    "num_features = 100\n",
    "\n",
    "# Set Initial Parameters (W, X), use tf.Variable to track these variables\n",
    "tf.random.set_seed(1234) # for consistent results\n",
    "W = tf.Variable(tf.random.normal((num_users,  num_features),dtype=tf.float64),  name='W')\n",
    "X = tf.Variable(tf.random.normal((num_movies, num_features),dtype=tf.float64),  name='X')\n",
    "b = tf.Variable(tf.random.normal((1,          num_users),   dtype=tf.float64),  name='b')\n",
    "\n",
    "# Instantiate an optimizer.\n",
    "optimizer = keras.optimizers.Adam(learning_rate=1e-1)"
   ]
  },
  {
   "cell_type": "markdown",
   "metadata": {},
   "source": [
    "Let's now train the collaborative filtering model. This will learn the parameters $\\mathbf{X}$, $\\mathbf{W}$, and $\\mathbf{b}$. "
   ]
  },
  {
   "cell_type": "markdown",
   "metadata": {},
   "source": [
    "The operations involved in learning $w$, $b$, and $x$ simultaneously do not fall into the typical 'layers' offered in the TensorFlow neural network package. Instead, we can use a custom training loop.\n",
    "\n",
    "Recall from earlier labs the steps of gradient descent.\n",
    "- repeat until convergence:\n",
    "    - compute forward pass\n",
    "    - compute the derivatives of the loss relative to parameters\n",
    "    - update the parameters using the learning rate and the computed derivatives \n",
    "    \n",
    "TensorFlow has the marvelous capability of calculating the derivatives for you. This is shown below. Within the `tf.GradientTape()` section, operations on Tensorflow Variables are tracked. When `tape.gradient()` is later called, it will return the gradient of the loss relative to the tracked variables. The gradients can then be applied to the parameters using an optimizer. \n"
   ]
  },
  {
   "cell_type": "code",
   "execution_count": 37,
   "metadata": {},
   "outputs": [
    {
     "name": "stdout",
     "output_type": "stream",
     "text": [
      "Training loss at iteration 0: 5703555.9\n",
      "Training loss at iteration 20: 289908.2\n",
      "Training loss at iteration 40: 113787.0\n",
      "Training loss at iteration 60: 56099.7\n",
      "Training loss at iteration 80: 32214.0\n",
      "Training loss at iteration 100: 20697.1\n",
      "Training loss at iteration 120: 14528.1\n",
      "Training loss at iteration 140: 10993.9\n",
      "Training loss at iteration 160: 8870.7\n",
      "Training loss at iteration 180: 7547.0\n",
      "Training loss at iteration 200: 6695.4\n",
      "Training loss at iteration 220: 6131.9\n",
      "Training loss at iteration 240: 5748.5\n",
      "Training loss at iteration 260: 5480.6\n",
      "Training loss at iteration 280: 5288.5\n",
      "Training loss at iteration 300: 5147.0\n",
      "Training loss at iteration 320: 5040.4\n",
      "Training loss at iteration 340: 4958.1\n",
      "Training loss at iteration 360: 4893.2\n",
      "Training loss at iteration 380: 4841.0\n"
     ]
    }
   ],
   "source": [
    "iterations = 400\n",
    "lambda_ = 1\n",
    "for iter in range(iterations):\n",
    "    # Use TensorFlow’s GradientTape\n",
    "    # to record the operations used to compute the cost \n",
    "    with tf.GradientTape() as tape:\n",
    "\n",
    "        # Compute the cost (forward pass included in cost)\n",
    "        cost_value = cofi_cost_func(X, W, b, Ynorm, R, lambda_)\n",
    "\n",
    "    # Use the gradient tape to automatically retrieve\n",
    "    # the gradients of the trainable variables with respect to the loss\n",
    "    grads = tape.gradient( cost_value, [X,W,b] )\n",
    "\n",
    "    # Run one step of gradient descent by updating\n",
    "    # the value of the variables to minimize the loss.\n",
    "    optimizer.apply_gradients( zip(grads, [X,W,b]) )\n",
    "\n",
    "    # Log periodically.\n",
    "    if iter % 20 == 0:\n",
    "        print(f\"Training loss at iteration {iter}: {cost_value:0.1f}\")"
   ]
  },
  {
   "cell_type": "markdown",
   "metadata": {
    "id": "SSzUL7eQodYS"
   },
   "source": [
    "<a name=\"6\"></a>\n",
    "## 6 - Recommendations\n",
    "Below, we compute the ratings for all the movies and users and display the movies that are recommended. These are based on the movies and ratings entered as `my_ratings[]` above. To predict the rating of movie $i$ for user $j$, you compute $\\mathbf{w}^{(j)} \\cdot \\mathbf{x}^{(i)} + b^{(j)}$. This can be computed for all ratings using matrix multiplication."
   ]
  },
  {
   "cell_type": "code",
   "execution_count": 38,
   "metadata": {},
   "outputs": [],
   "source": [
    "# Make a prediction using trained weights and biases\n",
    "p = np.matmul(X, np.transpose(W)) + b.numpy()\n",
    "\n",
    "#restore the mean\n",
    "pm = p + Ymean\n",
    "\n",
    "my_predictions = pm[:,0]\n",
    "\n",
    "# sort predictions\n",
    "ix = tf.argsort(my_predictions, direction='DESCENDING')\n"
   ]
  },
  {
   "cell_type": "code",
   "execution_count": 39,
   "metadata": {
    "id": "ns266wKtodYT",
    "scrolled": true
   },
   "outputs": [
    {
     "name": "stdout",
     "output_type": "stream",
     "text": [
      "The recommended movies according to the predicted rating is: \n",
      "\n",
      "Predicting rating 4.84 for movie Lord of the Rings: The Fellowship of the Ring, The (2001); Genres: Adventure|Fantasy\n",
      "Predicting rating 4.45 for movie Home Alone (1990); Genres: Children|Comedy\n",
      "Predicting rating 4.25 for movie Requiem for a Dream (2000); Genres: Drama\n",
      "Predicting rating 4.15 for movie Ant-Man and the Wasp (2018); Genres: Action|Adventure|Comedy|Fantasy|Sci-Fi\n",
      "Predicting rating 4.14 for movie Blues Brothers, The (1980); Genres: Action|Comedy|Musical\n",
      "Predicting rating 4.11 for movie Mission: Impossible - Fallout (2018); Genres: Action|Adventure|Thriller\n",
      "Predicting rating 4.11 for movie Solo: A Star Wars Story (2018); Genres: Action|Adventure|Children|Sci-Fi\n",
      "Predicting rating 4.11 for movie Enemy of the State (1998); Genres: Action|Thriller\n",
      "Predicting rating 4.10 for movie Spirited Away (Sen to Chihiro no kamikakushi) (2001); Genres: Adventure|Animation|Fantasy\n",
      "\n",
      "\n",
      "Original vs Predicted ratings:\n",
      "\n",
      "Original 4.5, Predicted 4.27 for Tom and Huck (1995) ; Genres: Adventure|Children\n",
      "Original 2.0, Predicted 2.01 for American President, The (1995) ; Genres: Comedy|Drama|Romance\n",
      "Original 1.0, Predicted 1.08 for Cutthroat Island (1995) ; Genres: Action|Adventure|Romance\n",
      "Original 2.0, Predicted 2.01 for Sense and Sensibility (1995) ; Genres: Drama|Romance\n",
      "Original 1.0, Predicted 1.04 for Leaving Las Vegas (1995) ; Genres: Drama|Romance\n",
      "Original 4.0, Predicted 3.79 for Pagemaster, The (1994) ; Genres: Action|Adventure|Animation|Children|Fantasy\n",
      "Original 5.0, Predicted 4.83 for All Dogs Go to Heaven 2 (1996) ; Genres: Adventure|Animation|Children|Fantasy|Musical|Romance\n",
      "Original 5.0, Predicted 4.85 for Alice in Wonderland (1951) ; Genres: Adventure|Animation|Children|Fantasy|Musical\n",
      "Original 4.5, Predicted 4.35 for Yellow Submarine (1968) ; Genres: Adventure|Animation|Comedy|Fantasy|Musical\n",
      "Original 4.5, Predicted 4.39 for Princess Mononoke (Mononoke-hime) (1997) ; Genres: Action|Adventure|Animation|Drama|Fantasy\n",
      "Original 4.0, Predicted 3.77 for Light Years (Gandahar) (1988) ; Genres: Adventure|Animation|Fantasy|Sci-Fi\n",
      "Original 5.0, Predicted 4.90 for Lord of the Rings: The Return of the King, The (2003) ; Genres: Action|Adventure|Drama|Fantasy\n",
      "Original 1.5, Predicted 1.87 for Advise and Consent (1962) ; Genres: Drama\n",
      "Original 1.0, Predicted 1.45 for 30 Days of Night (2007) ; Genres: Horror|Thriller\n",
      "Original 1.5, Predicted 1.87 for Pretty One, The (2013) ; Genres: Comedy|Drama\n"
     ]
    }
   ],
   "source": [
    "print(\"The recommended movies according to the predicted rating is: \\n\")\n",
    "for i in range(15):\n",
    "    j = ix.numpy()[i]\n",
    "    movie_id = my_ratings.index[j]\n",
    "    if my_rated[j] == 0:\n",
    "        print(f'Predicting rating {my_predictions[j]:0.2f} for movie {movie_list.loc[movie_id, \"title\"]}; Genres: {movie_list.loc[movie_id, \"genres\"]}')\n",
    "\n",
    "print('\\n\\nOriginal vs Predicted ratings:\\n')\n",
    "for i in range(len(my_ratings)):\n",
    "    if my_ratings.values[i] > 0:\n",
    "        movie_id = my_ratings.index[i]\n",
    "        print(f'Original {my_ratings.values[i]}, Predicted {my_predictions[i]:0.2f} for {movie_list.loc[movie_id, \"title\"]} ; Genres: {movie_list.loc[movie_id, \"genres\"]}')"
   ]
  },
  {
   "cell_type": "code",
   "execution_count": null,
   "metadata": {},
   "outputs": [],
   "source": []
  }
 ],
 "metadata": {
  "kernelspec": {
   "display_name": "Python 3",
   "language": "python",
   "name": "python3"
  },
  "language_info": {
   "codemirror_mode": {
    "name": "ipython",
    "version": 3
   },
   "file_extension": ".py",
   "mimetype": "text/x-python",
   "name": "python",
   "nbconvert_exporter": "python",
   "pygments_lexer": "ipython3",
   "version": "3.9.7"
  }
 },
 "nbformat": 4,
 "nbformat_minor": 4
}
